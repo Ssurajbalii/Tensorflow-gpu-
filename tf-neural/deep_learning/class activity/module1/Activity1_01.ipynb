{
  "cells": [
    {
      "cell_type": "code",
      "execution_count": null,
      "metadata": {
        "id": "vgDjI-o2ba-d"
      },
      "outputs": [],
      "source": [
        "#working version of TF2 simple linear regession"
      ]
    },
    {
      "cell_type": "code",
      "source": [
        "import tensorflow as tf"
      ],
      "metadata": {
        "id": "V0ryxBsGd7Ki"
      },
      "execution_count": 9,
      "outputs": []
    },
    {
      "cell_type": "code",
      "source": [
        "# This initializes the variable 𝑥 to 0.0.\n",
        "x = tf.Variable(0.0)"
      ],
      "metadata": {
        "id": "IbQqju_Zf6TJ"
      },
      "execution_count": 15,
      "outputs": []
    },
    {
      "cell_type": "code",
      "source": [
        "# Defines the loss function\n",
        "loss = lambda: abs(x**2 - 10*x + 25)"
      ],
      "metadata": {
        "id": "6UcuVz80f-u9"
      },
      "execution_count": 16,
      "outputs": []
    },
    {
      "cell_type": "code",
      "source": [
        "# Initializes the Adam optimizer with a learning rate of 0.01.\n",
        "optimizer = tf.keras.optimizers.Adam(learning_rate=0.01)"
      ],
      "metadata": {
        "id": "tAumGC97gE6s"
      },
      "execution_count": 18,
      "outputs": []
    },
    {
      "cell_type": "code",
      "source": [
        "# Use GradientTape to compute gradients and apply them manually\n",
        "for i in range(10000):\n",
        "    with tf.GradientTape() as tape:\n",
        "        loss_value = loss()\n",
        "    gradients = tape.gradient(loss_value, [x])\n",
        "    optimizer.apply_gradients(zip(gradients, [x]))"
      ],
      "metadata": {
        "id": "5AFrYYz9gIkn"
      },
      "execution_count": 19,
      "outputs": []
    },
    {
      "cell_type": "code",
      "source": [
        "print(x.numpy())  # Print the optimized value of x"
      ],
      "metadata": {
        "colab": {
          "base_uri": "https://localhost:8080/"
        },
        "id": "WELRumPLgLjn",
        "outputId": "0d89eef2-f49e-4b42-cdeb-10fbea89d93f"
      },
      "execution_count": 14,
      "outputs": [
        {
          "output_type": "stream",
          "name": "stdout",
          "text": [
            "4.999199\n"
          ]
        }
      ]
    }
  ],
  "metadata": {
    "kernelspec": {
      "display_name": "Python 3",
      "language": "python",
      "name": "python3"
    },
    "language_info": {
      "codemirror_mode": {
        "name": "ipython",
        "version": 3
      },
      "file_extension": ".py",
      "mimetype": "text/x-python",
      "name": "python",
      "nbconvert_exporter": "python",
      "pygments_lexer": "ipython3",
      "version": "3.7.4"
    },
    "colab": {
      "provenance": []
    }
  },
  "nbformat": 4,
  "nbformat_minor": 0
}