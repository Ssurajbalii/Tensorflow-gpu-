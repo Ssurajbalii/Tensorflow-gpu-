{
  "cells": [
    {
      "cell_type": "code",
      "execution_count": 6,
      "metadata": {
        "id": "SGOW3wyoLzWk"
      },
      "outputs": [],
      "source": [
        "import tensorflow as tf\n",
        "w=tf.Variable(0.0)\n",
        "b=tf.Variable(0.0)"
      ]
    },
    {
      "cell_type": "code",
      "source": [
        "print(\"TensorFlow version:\", tf.__version__)"
      ],
      "metadata": {
        "colab": {
          "base_uri": "https://localhost:8080/"
        },
        "id": "rEuIGnwhPPqO",
        "outputId": "2a94348a-2091-4d0d-a400-7712a8789262"
      },
      "execution_count": null,
      "outputs": [
        {
          "output_type": "stream",
          "name": "stdout",
          "text": [
            "TensorFlow version: 2.17.0\n"
          ]
        }
      ]
    },
    {
      "cell_type": "code",
      "execution_count": 7,
      "metadata": {
        "id": "U64KFWWbLzWm"
      },
      "outputs": [],
      "source": [
        "def regression(x):\n",
        "    model=w*x+b\n",
        "    return model"
      ]
    },
    {
      "cell_type": "code",
      "execution_count": 8,
      "metadata": {
        "id": "2969IZbaLzWm"
      },
      "outputs": [],
      "source": [
        "x=[1,2,3,4]\n",
        "y=[0,-1,-2,-3]"
      ]
    },
    {
      "cell_type": "code",
      "execution_count": 9,
      "metadata": {
        "id": "wa-mxhvBLzWm"
      },
      "outputs": [],
      "source": [
        "loss=lambda:abs(regression(x)-y)"
      ]
    },
    {
      "cell_type": "code",
      "execution_count": 10,
      "metadata": {
        "id": "ILvgFRSaLzWm"
      },
      "outputs": [],
      "source": [
        "optimizer = tf.optimizers.Adam(learning_rate=0.001)"
      ]
    },
    {
      "cell_type": "code",
      "source": [
        "def loss_function(y_true, y_pred):\n",
        "    return tf.reduce_mean(tf.square(y_true - y_pred))"
      ],
      "metadata": {
        "id": "KJiz7CmHOzrV"
      },
      "execution_count": 11,
      "outputs": []
    },
    {
      "cell_type": "code",
      "execution_count": 12,
      "metadata": {
        "id": "z5QMIXWdLzWm"
      },
      "outputs": [],
      "source": [
        "for i in range(1000):\n",
        "    with tf.GradientTape() as tape:\n",
        "       y_pred = regression(x)\n",
        "       loss_value = loss_function(y, y_pred)  # Calculate the loss\n",
        "       grads = tape.gradient(loss_value, [w, b])\n",
        "       optimizer.apply_gradients(zip(grads, [w, b]))"
      ]
    },
    {
      "cell_type": "code",
      "execution_count": 13,
      "metadata": {
        "colab": {
          "base_uri": "https://localhost:8080/"
        },
        "id": "39wngN43LzWm",
        "outputId": "fef4dcb5-4c46-4a35-be93-88f6e319965e"
      },
      "outputs": [
        {
          "output_type": "stream",
          "name": "stdout",
          "text": [
            "-0.514517 -0.333603531\n"
          ]
        }
      ],
      "source": [
        "tf.print(w,b)"
      ]
    },
    {
      "cell_type": "code",
      "execution_count": 14,
      "metadata": {
        "colab": {
          "base_uri": "https://localhost:8080/"
        },
        "id": "B_ksWzBCLzWn",
        "outputId": "de0b271d-f310-4d35-e2ad-93b77b2deb86"
      },
      "outputs": [
        {
          "output_type": "stream",
          "name": "stdout",
          "text": [
            "[-0.84812057 -1.36263752 -1.87715447 -2.39167166]\n"
          ]
        }
      ],
      "source": [
        "tf.print(regression([1,2,3,4]))"
      ]
    }
  ],
  "metadata": {
    "kernelspec": {
      "display_name": "Python 3",
      "language": "python",
      "name": "python3"
    },
    "language_info": {
      "codemirror_mode": {
        "name": "ipython",
        "version": 3
      },
      "file_extension": ".py",
      "mimetype": "text/x-python",
      "name": "python",
      "nbconvert_exporter": "python",
      "pygments_lexer": "ipython3",
      "version": "3.7.4"
    },
    "colab": {
      "provenance": []
    }
  },
  "nbformat": 4,
  "nbformat_minor": 0
}