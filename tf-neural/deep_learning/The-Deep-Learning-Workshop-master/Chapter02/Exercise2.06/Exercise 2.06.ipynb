{
 "cells": [
  {
   "cell_type": "code",
   "execution_count": 1,
   "metadata": {},
   "outputs": [],
   "source": [
    "import tensorflow as tf\n",
    " \n",
    "import pandas as pd\n",
    " \n",
    "import matplotlib.pyplot as plt\n",
    "%matplotlib inline\n",
    " \n",
    "# Import Keras libraries\n",
    "from tensorflow.keras.models import Sequential\n",
    "from tensorflow.keras.layers import Dense"
   ]
  },
  {
   "cell_type": "code",
   "execution_count": 2,
   "metadata": {},
   "outputs": [],
   "source": [
    "df = pd.read_csv('data.csv')"
   ]
  },
  {
   "cell_type": "code",
   "execution_count": 3,
   "metadata": {},
   "outputs": [
    {
     "data": {
      "text/html": [
       "<div>\n",
       "<style scoped>\n",
       "    .dataframe tbody tr th:only-of-type {\n",
       "        vertical-align: middle;\n",
       "    }\n",
       "\n",
       "    .dataframe tbody tr th {\n",
       "        vertical-align: top;\n",
       "    }\n",
       "\n",
       "    .dataframe thead th {\n",
       "        text-align: right;\n",
       "    }\n",
       "</style>\n",
       "<table border=\"1\" class=\"dataframe\">\n",
       "  <thead>\n",
       "    <tr style=\"text-align: right;\">\n",
       "      <th></th>\n",
       "      <th>label</th>\n",
       "      <th>x1</th>\n",
       "      <th>x2</th>\n",
       "    </tr>\n",
       "  </thead>\n",
       "  <tbody>\n",
       "    <tr>\n",
       "      <th>0</th>\n",
       "      <td>1</td>\n",
       "      <td>2.6487</td>\n",
       "      <td>4.5192</td>\n",
       "    </tr>\n",
       "    <tr>\n",
       "      <th>1</th>\n",
       "      <td>1</td>\n",
       "      <td>1.5438</td>\n",
       "      <td>2.4443</td>\n",
       "    </tr>\n",
       "    <tr>\n",
       "      <th>2</th>\n",
       "      <td>1</td>\n",
       "      <td>1.8990</td>\n",
       "      <td>4.2409</td>\n",
       "    </tr>\n",
       "    <tr>\n",
       "      <th>3</th>\n",
       "      <td>1</td>\n",
       "      <td>2.4711</td>\n",
       "      <td>5.8097</td>\n",
       "    </tr>\n",
       "    <tr>\n",
       "      <th>4</th>\n",
       "      <td>1</td>\n",
       "      <td>3.3590</td>\n",
       "      <td>6.4423</td>\n",
       "    </tr>\n",
       "  </tbody>\n",
       "</table>\n",
       "</div>"
      ],
      "text/plain": [
       "   label      x1      x2\n",
       "0      1  2.6487  4.5192\n",
       "1      1  1.5438  2.4443\n",
       "2      1  1.8990  4.2409\n",
       "3      1  2.4711  5.8097\n",
       "4      1  3.3590  6.4423"
      ]
     },
     "execution_count": 3,
     "metadata": {},
     "output_type": "execute_result"
    }
   ],
   "source": [
    "df.head()"
   ]
  },
  {
   "cell_type": "code",
   "execution_count": 4,
   "metadata": {},
   "outputs": [
    {
     "data": {
      "text/plain": [
       "<matplotlib.collections.PathCollection at 0x6350ea6d0>"
      ]
     },
     "execution_count": 4,
     "metadata": {},
     "output_type": "execute_result"
    },
    {
     "data": {
      "image/png": "[encoded data removed]",
      "text/plain": [
       "<Figure size 432x288 with 1 Axes>"
      ]
     },
     "metadata": {
      "needs_background": "light"
     },
     "output_type": "display_data"
    }
   ],
   "source": [
    "plt.scatter(df[df['label'] == 0]['x1'], df[df['label'] == 0]['x2'], marker='*')\n",
    "plt.scatter(df[df['label'] == 1]['x1'], df[df['label'] == 1]['x2'], marker='<')"
   ]
  },
  {
   "cell_type": "code",
   "execution_count": 5,
   "metadata": {},
   "outputs": [],
   "source": [
    "x_input = df[['x1','x2']].values\n",
    "y_label = df[['label']].values"
   ]
  },
  {
   "cell_type": "code",
   "execution_count": 7,
   "metadata": {},
   "outputs": [],
   "source": [
    "model = Sequential()\n",
    "model.add(Dense(units=50,input_dim=2, activation='relu'))\n",
    "model.add(Dense(units=20, activation='relu'))\n",
    "model.add(Dense(units=1, input_dim=2, activation='sigmoid'))"
   ]
  },
  {
   "cell_type": "code",
   "execution_count": 8,
   "metadata": {},
   "outputs": [],
   "source": [
    "model.compile(optimizer='adam', loss='binary_crossentropy', metrics=['accuracy'])"
   ]
  },
  {
   "cell_type": "code",
   "execution_count": 9,
   "metadata": {},
   "outputs": [
    {
     "name": "stdout",
     "output_type": "stream",
     "text": [
      "Model: \"sequential\"\n",
      "_________________________________________________________________\n",
      "Layer (type)                 Output Shape              Param #   \n",
      "=================================================================\n",
      "dense (Dense)                (None, 50)                150       \n",
      "_________________________________________________________________\n",
      "dense_1 (Dense)              (None, 20)                1020      \n",
      "_________________________________________________________________\n",
      "dense_2 (Dense)              (None, 1)                 21        \n",
      "=================================================================\n",
      "Total params: 1,191\n",
      "Trainable params: 1,191\n",
      "Non-trainable params: 0\n",
      "_________________________________________________________________\n"
     ]
    }
   ],
   "source": [
    "model.summary()"
   ]
  },
  {
   "cell_type": "code",
   "execution_count": 10,
   "metadata": {},
   "outputs": [
    {
     "name": "stdout",
     "output_type": "stream",
     "text": [
      "Train on 21 samples\n",
      "Epoch 1/50\n",
      "21/21 [==============================] - 0s 21ms/sample - loss: 0.6044 - accuracy: 0.5714\n",
      "Epoch 2/50\n",
      "21/21 [==============================] - 0s 99us/sample - loss: 0.5772 - accuracy: 0.5714\n",
      "Epoch 3/50\n",
      "21/21 [==============================] - 0s 135us/sample - loss: 0.5510 - accuracy: 0.5714\n",
      "Epoch 4/50\n",
      "21/21 [==============================] - 0s 106us/sample - loss: 0.5259 - accuracy: 0.5714\n",
      "Epoch 5/50\n",
      "21/21 [==============================] - 0s 237us/sample - loss: 0.5022 - accuracy: 0.6190\n",
      "Epoch 6/50\n",
      "21/21 [==============================] - 0s 136us/sample - loss: 0.4801 - accuracy: 0.6667\n",
      "Epoch 7/50\n",
      "21/21 [==============================] - 0s 128us/sample - loss: 0.4604 - accuracy: 0.7619\n",
      "Epoch 8/50\n",
      "21/21 [==============================] - 0s 139us/sample - loss: 0.4437 - accuracy: 0.9048\n",
      "Epoch 9/50\n",
      "21/21 [==============================] - 0s 133us/sample - loss: 0.4279 - accuracy: 0.9524\n",
      "Epoch 10/50\n",
      "21/21 [==============================] - 0s 130us/sample - loss: 0.4130 - accuracy: 1.0000\n",
      "Epoch 11/50\n",
      "21/21 [==============================] - 0s 255us/sample - loss: 0.3988 - accuracy: 1.0000\n",
      "Epoch 12/50\n",
      "21/21 [==============================] - 0s 287us/sample - loss: 0.3856 - accuracy: 1.0000\n",
      "Epoch 13/50\n",
      "21/21 [==============================] - 0s 228us/sample - loss: 0.3733 - accuracy: 1.0000\n",
      "Epoch 14/50\n",
      "21/21 [==============================] - 0s 213us/sample - loss: 0.3617 - accuracy: 1.0000\n",
      "Epoch 15/50\n",
      "21/21 [==============================] - 0s 184us/sample - loss: 0.3510 - accuracy: 1.0000\n",
      "Epoch 16/50\n",
      "21/21 [==============================] - 0s 213us/sample - loss: 0.3415 - accuracy: 1.0000\n",
      "Epoch 17/50\n",
      "21/21 [==============================] - 0s 287us/sample - loss: 0.3320 - accuracy: 1.0000\n",
      "Epoch 18/50\n",
      "21/21 [==============================] - 0s 326us/sample - loss: 0.3228 - accuracy: 1.0000\n",
      "Epoch 19/50\n",
      "21/21 [==============================] - 0s 251us/sample - loss: 0.3138 - accuracy: 1.0000\n",
      "Epoch 20/50\n",
      "21/21 [==============================] - 0s 196us/sample - loss: 0.3050 - accuracy: 1.0000\n",
      "Epoch 21/50\n",
      "21/21 [==============================] - 0s 338us/sample - loss: 0.2963 - accuracy: 1.0000\n",
      "Epoch 22/50\n",
      "21/21 [==============================] - 0s 312us/sample - loss: 0.2878 - accuracy: 1.0000\n",
      "Epoch 23/50\n",
      "21/21 [==============================] - 0s 300us/sample - loss: 0.2795 - accuracy: 1.0000\n",
      "Epoch 24/50\n",
      "21/21 [==============================] - 0s 232us/sample - loss: 0.2712 - accuracy: 1.0000\n",
      "Epoch 25/50\n",
      "21/21 [==============================] - 0s 313us/sample - loss: 0.2630 - accuracy: 1.0000\n",
      "Epoch 26/50\n",
      "21/21 [==============================] - 0s 373us/sample - loss: 0.2550 - accuracy: 1.0000\n",
      "Epoch 27/50\n",
      "21/21 [==============================] - 0s 286us/sample - loss: 0.2471 - accuracy: 1.0000\n",
      "Epoch 28/50\n",
      "21/21 [==============================] - 0s 320us/sample - loss: 0.2388 - accuracy: 1.0000\n",
      "Epoch 29/50\n",
      "21/21 [==============================] - 0s 385us/sample - loss: 0.2304 - accuracy: 1.0000\n",
      "Epoch 30/50\n",
      "21/21 [==============================] - 0s 285us/sample - loss: 0.2219 - accuracy: 1.0000\n",
      "Epoch 31/50\n",
      "21/21 [==============================] - 0s 136us/sample - loss: 0.2135 - accuracy: 1.0000\n",
      "Epoch 32/50\n",
      "21/21 [==============================] - 0s 203us/sample - loss: 0.2053 - accuracy: 1.0000\n",
      "Epoch 33/50\n",
      "21/21 [==============================] - 0s 271us/sample - loss: 0.1973 - accuracy: 1.0000\n",
      "Epoch 34/50\n",
      "21/21 [==============================] - 0s 273us/sample - loss: 0.1895 - accuracy: 1.0000\n",
      "Epoch 35/50\n",
      "21/21 [==============================] - 0s 272us/sample - loss: 0.1820 - accuracy: 1.0000\n",
      "Epoch 36/50\n",
      "21/21 [==============================] - 0s 115us/sample - loss: 0.1747 - accuracy: 1.0000\n",
      "Epoch 37/50\n",
      "21/21 [==============================] - 0s 244us/sample - loss: 0.1680 - accuracy: 1.0000\n",
      "Epoch 38/50\n",
      "21/21 [==============================] - 0s 263us/sample - loss: 0.1617 - accuracy: 1.0000\n",
      "Epoch 39/50\n",
      "21/21 [==============================] - 0s 278us/sample - loss: 0.1560 - accuracy: 1.0000\n",
      "Epoch 40/50\n",
      "21/21 [==============================] - 0s 222us/sample - loss: 0.1507 - accuracy: 1.0000\n",
      "Epoch 41/50\n",
      "21/21 [==============================] - 0s 160us/sample - loss: 0.1456 - accuracy: 1.0000\n",
      "Epoch 42/50\n",
      "21/21 [==============================] - 0s 143us/sample - loss: 0.1406 - accuracy: 1.0000\n",
      "Epoch 43/50\n",
      "21/21 [==============================] - 0s 178us/sample - loss: 0.1359 - accuracy: 1.0000\n",
      "Epoch 44/50\n",
      "21/21 [==============================] - 0s 212us/sample - loss: 0.1312 - accuracy: 1.0000\n",
      "Epoch 45/50\n",
      "21/21 [==============================] - 0s 510us/sample - loss: 0.1267 - accuracy: 1.0000\n",
      "Epoch 46/50\n",
      "21/21 [==============================] - 0s 154us/sample - loss: 0.1223 - accuracy: 1.0000\n",
      "Epoch 47/50\n",
      "21/21 [==============================] - 0s 180us/sample - loss: 0.1183 - accuracy: 1.0000\n",
      "Epoch 48/50\n",
      "21/21 [==============================] - 0s 181us/sample - loss: 0.1144 - accuracy: 1.0000\n",
      "Epoch 49/50\n",
      "21/21 [==============================] - 0s 214us/sample - loss: 0.1107 - accuracy: 1.0000\n",
      "Epoch 50/50\n",
      "21/21 [==============================] - 0s 232us/sample - loss: 0.1072 - accuracy: 1.0000\n"
     ]
    },
    {
     "data": {
      "text/plain": [
       "<tensorflow.python.keras.callbacks.History at 0x6352f2050>"
      ]
     },
     "execution_count": 10,
     "metadata": {},
     "output_type": "execute_result"
    }
   ],
   "source": [
    "model.fit(x_input, y_label, epochs=50)"
   ]
  },
  {
   "cell_type": "code",
   "execution_count": 11,
   "metadata": {},
   "outputs": [
    {
     "name": "stdout",
     "output_type": "stream",
     "text": [
      "\r",
      "21/21 [==============================] - 0s 6ms/sample - loss: 0.1038 - accuracy: 1.0000\n"
     ]
    },
    {
     "data": {
      "text/plain": [
       "[0.1037961095571518, 1.0]"
      ]
     },
     "execution_count": 11,
     "metadata": {},
     "output_type": "execute_result"
    }
   ],
   "source": [
    "model.evaluate(x_input, y_label)"
   ]
  }
 ],
 "metadata": {
  "kernelspec": {
   "display_name": "Python 3",
   "language": "python",
   "name": "python3"
  },
  "language_info": {
   "codemirror_mode": {
    "name": "ipython",
    "version": 3
   },
   "file_extension": ".py",
   "mimetype": "text/x-python",
   "name": "python",
   "nbconvert_exporter": "python",
   "pygments_lexer": "ipython3",
   "version": "3.7.4"
  }
 },
 "nbformat": 4,
 "nbformat_minor": 4
}
