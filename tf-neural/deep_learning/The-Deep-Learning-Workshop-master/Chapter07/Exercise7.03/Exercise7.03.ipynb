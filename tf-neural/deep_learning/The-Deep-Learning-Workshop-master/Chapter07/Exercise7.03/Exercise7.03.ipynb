{
 "cells": [
  {
   "cell_type": "markdown",
   "metadata": {},
   "source": [
    "### Exercise 7.03 : Building the discriminator network"
   ]
  },
  {
   "cell_type": "code",
   "execution_count": 1,
   "metadata": {},
   "outputs": [],
   "source": [
    "# Import the required library functions\n",
    "import tensorflow as tf\n",
    "import numpy as np\n",
    "from numpy.random import randn\n",
    "from tensorflow.keras.models import Sequential\n",
    "from tensorflow.keras.layers import Dense\n",
    "from matplotlib import pyplot"
   ]
  },
  {
   "cell_type": "code",
   "execution_count": 2,
   "metadata": {},
   "outputs": [],
   "source": [
    "# Function to generate real samples\n",
    "def realData(loc,batch):\n",
    "    # loc is the random location or mean around which samples are centred\n",
    "    # Generate numbers to right of the random point\n",
    "    xr = np.arange(loc,loc+(0.1*batch/2),0.1)\n",
    "    xr = xr[0:int(batch/2)]\n",
    "    # Generate numbers to left of the random point\n",
    "    xl = np.arange(loc-(0.1*batch/2),loc,0.1)\n",
    "    # Concatenating both these series \n",
    "    X1 = np.concatenate((xl,xr))\n",
    "    # Second dependent variable\n",
    "    X2 = np.sin(X1)\n",
    "    # Reshaping both the variables and then concatenating them to an array of independent variables\n",
    "    X1 = X1.reshape(batch,1)\n",
    "    X2 = X2.reshape(batch,1)    \n",
    "    X = np.concatenate((X1,X2),axis = 1)\n",
    "    # Generating the labels for real data set which is 'ones'\n",
    "    y = np.ones((batch,1))    \n",
    "    return X,y"
   ]
  },
  {
   "cell_type": "code",
   "execution_count": 3,
   "metadata": {},
   "outputs": [],
   "source": [
    "# Function to generate inputs for generator function\n",
    "def fakeInputs(batch,infeats):\n",
    "    # Sample data points equal to (batch x input feature size) from a random distribution\n",
    "    genInput = randn(infeats * batch)\n",
    "    # Reshape the input\n",
    "    X = genInput.reshape(batch ,infeats)\n",
    "    return X\n",
    "\n"
   ]
  },
  {
   "cell_type": "code",
   "execution_count": 4,
   "metadata": {},
   "outputs": [],
   "source": [
    "# Function for the generator model\n",
    "def genModel(infeats,outfeats):\n",
    "    # Defining the Generator model\n",
    "    Genmodel = Sequential()\n",
    "    Genmodel.add(Dense(32,activation = 'linear',kernel_initializer='he_uniform',input_dim=infeats))\n",
    "    Genmodel.add(Dense(32,activation = 'relu',kernel_initializer='he_uniform'))    \n",
    "    Genmodel.add(Dense(64,activation = 'elu',kernel_initializer='he_uniform'))    \n",
    "    Genmodel.add(Dense(32,activation = 'elu',kernel_initializer='he_uniform'))    \n",
    "    Genmodel.add(Dense(32,activation = 'selu',kernel_initializer='he_uniform'))\n",
    "    Genmodel.add(Dense(outfeats,activation = 'selu'))\n",
    "    return Genmodel"
   ]
  },
  {
   "cell_type": "code",
   "execution_count": 5,
   "metadata": {},
   "outputs": [],
   "source": [
    "# Function to create fake samples using the generator model\n",
    "def fakedataGenerator(Genmodel,batch,infeats):\n",
    "    # first generate the inputs to the model\n",
    "    genInputs = fakeInputs(batch,infeats)\n",
    "    # use these inputs inside the generator model to generate fake distribution\n",
    "    X_fake = Genmodel.predict(genInputs)\n",
    "    # Generate the labels of fake data set\n",
    "    y_fake = np.zeros((batch,1))\n",
    "    \n",
    "    return X_fake,y_fake"
   ]
  },
  {
   "cell_type": "code",
   "execution_count": 6,
   "metadata": {},
   "outputs": [],
   "source": [
    "# Define the arguments like batch size,input feature size and output feature size\n",
    "batch = 128\n",
    "infeats = 10\n",
    "outfeats = 2"
   ]
  },
  {
   "cell_type": "markdown",
   "metadata": {},
   "source": [
    "Next we develop the discriminator model which is a network having 4 layers"
   ]
  },
  {
   "cell_type": "code",
   "execution_count": 7,
   "metadata": {},
   "outputs": [],
   "source": [
    "# Define the discriminator model\n",
    "Discmodel = Sequential()\n",
    "Discmodel.add(Dense(16, activation='relu',kernel_initializer = 'he_uniform',input_dim=outfeats))\n",
    "Discmodel.add(Dense(16,activation='relu' ,kernel_initializer = 'he_uniform'))\n",
    "Discmodel.add(Dense(16,activation='relu' ,kernel_initializer = 'he_uniform'))    \n",
    "Discmodel.add(Dense(1,activation='sigmoid'))\n",
    "# Compiling the model\n",
    "Discmodel.compile(loss='binary_crossentropy',optimizer='adam',metrics=['accuracy']) "
   ]
  },
  {
   "cell_type": "code",
   "execution_count": 8,
   "metadata": {},
   "outputs": [
    {
     "name": "stdout",
     "output_type": "stream",
     "text": [
      "Model: \"sequential\"\n",
      "_________________________________________________________________\n",
      "Layer (type)                 Output Shape              Param #   \n",
      "=================================================================\n",
      "dense (Dense)                (None, 16)                48        \n",
      "_________________________________________________________________\n",
      "dense_1 (Dense)              (None, 16)                272       \n",
      "_________________________________________________________________\n",
      "dense_2 (Dense)              (None, 16)                272       \n",
      "_________________________________________________________________\n",
      "dense_3 (Dense)              (None, 1)                 17        \n",
      "=================================================================\n",
      "Total params: 609\n",
      "Trainable params: 609\n",
      "Non-trainable params: 0\n",
      "_________________________________________________________________\n"
     ]
    }
   ],
   "source": [
    "# Print the summary of the discriminator model\n",
    "Discmodel.summary()"
   ]
  },
  {
   "cell_type": "code",
   "execution_count": 9,
   "metadata": {},
   "outputs": [
    {
     "name": "stdout",
     "output_type": "stream",
     "text": [
      "Model: \"sequential_1\"\n",
      "_________________________________________________________________\n",
      "Layer (type)                 Output Shape              Param #   \n",
      "=================================================================\n",
      "dense_4 (Dense)              (None, 32)                352       \n",
      "_________________________________________________________________\n",
      "dense_5 (Dense)              (None, 32)                1056      \n",
      "_________________________________________________________________\n",
      "dense_6 (Dense)              (None, 64)                2112      \n",
      "_________________________________________________________________\n",
      "dense_7 (Dense)              (None, 32)                2080      \n",
      "_________________________________________________________________\n",
      "dense_8 (Dense)              (None, 32)                1056      \n",
      "_________________________________________________________________\n",
      "dense_9 (Dense)              (None, 2)                 66        \n",
      "=================================================================\n",
      "Total params: 6,722\n",
      "Trainable params: 6,722\n",
      "Non-trainable params: 0\n",
      "_________________________________________________________________\n"
     ]
    }
   ],
   "source": [
    "# Calling the Generator model function\n",
    "Genmodel = genModel(infeats,outfeats)\n",
    "Genmodel.summary()"
   ]
  },
  {
   "cell_type": "code",
   "execution_count": 10,
   "metadata": {},
   "outputs": [],
   "source": [
    "# Defining the number of epochs\n",
    "nEpochs = 20000"
   ]
  },
  {
   "cell_type": "code",
   "execution_count": 11,
   "metadata": {},
   "outputs": [
    {
     "name": "stdout",
     "output_type": "stream",
     "text": [
      "Real accuracy:0.265625,Fake accuracy:0.59375\n",
      "Real accuracy:1.0,Fake accuracy:0.828125\n",
      "Real accuracy:1.0,Fake accuracy:0.90625\n",
      "Real accuracy:1.0,Fake accuracy:0.9453125\n",
      "Real accuracy:1.0,Fake accuracy:0.9453125\n"
     ]
    }
   ],
   "source": [
    "# Train the discriminator network\n",
    "for i in range(nEpochs):\n",
    "    # Generate the random number for generating real samples\n",
    "    loc = np.random.normal(3,1,1)\n",
    "    # Generate samples equal to the bath size from the real distribution\n",
    "    x_real, y_real = realData(loc,batch)\n",
    "    # Generate fake samples using the fake data generator function\n",
    "    x_fake, y_fake = fakedataGenerator(Genmodel,batch,infeats)\n",
    "    # train the  discriminator on the real samples\n",
    "    Discmodel.train_on_batch(x_real, y_real)\n",
    "    # train the discriminator on the fake samples\n",
    "    Discmodel.train_on_batch(x_fake, y_fake)\n",
    "    # Print the accuracy measures on the real and fake data for every 4000 epochs\n",
    "    if (i) % 4000 == 0:\n",
    "        # Evaluate the real distribution accuracy\n",
    "        _, realAccuracy = Discmodel.evaluate(x_real, y_real, verbose=0)\n",
    "        # Evaluate fake distribution accuracy levels\n",
    "        _, fakeAccuracy = Discmodel.evaluate(x_fake, y_fake, verbose=0)\n",
    "        print('Real accuracy:{R},Fake accuracy:{F}'.format(R=realAccuracy,F=fakeAccuracy))"
   ]
  },
  {
   "cell_type": "code",
   "execution_count": null,
   "metadata": {},
   "outputs": [],
   "source": []
  },
  {
   "cell_type": "code",
   "execution_count": null,
   "metadata": {},
   "outputs": [],
   "source": []
  },
  {
   "cell_type": "code",
   "execution_count": null,
   "metadata": {},
   "outputs": [],
   "source": []
  }
 ],
 "metadata": {
  "kernelspec": {
   "display_name": "Python 3",
   "language": "python",
   "name": "python3"
  },
  "language_info": {
   "codemirror_mode": {
    "name": "ipython",
    "version": 3
   },
   "file_extension": ".py",
   "mimetype": "text/x-python",
   "name": "python",
   "nbconvert_exporter": "python",
   "pygments_lexer": "ipython3",
   "version": "3.7.4"
  }
 },
 "nbformat": 4,
 "nbformat_minor": 2
}
